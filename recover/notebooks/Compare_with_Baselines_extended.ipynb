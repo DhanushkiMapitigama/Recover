{
 "cells": [
  {
   "cell_type": "code",
   "execution_count": 8,
   "metadata": {},
   "outputs": [],
   "source": [
    "from recover.datasets.drugcomb_matrix_data import (DrugCombMatrix, DrugCombMatrixDrugLevelSplitTrain,\n",
    "DrugCombMatrixDrugLevelSplitTest, DrugCombMatrixTrainOneil, DrugCombMatrixTestAlmanac,\n",
    "DrugCombMatrixOneHiddenDrugSplitTrain, DrugCombMatrixOneHiddenDrugSplitTest)\n",
    "import torch\n",
    "import numpy as np\n",
    "from sklearn.svm import LinearSVR\n",
    "from scipy.stats import spearmanr\n",
    "from scipy import stats\n",
    "from sklearn.ensemble import GradientBoostingRegressor\n",
    "from sklearn.model_selection import train_test_split\n",
    "from sklearn.metrics import r2_score"
   ]
  },
  {
   "cell_type": "code",
   "execution_count": 9,
   "metadata": {},
   "outputs": [],
   "source": [
    "def get_set(dataset, indices, edge_idx, cell_line_option):\n",
    "    assert cell_line_option in [\"no\", \"index\", \"features\"]\n",
    "    \n",
    "    if cell_line_option == \"no\":\n",
    "        out_set = torch.cat((dataset.data.x_drugs[edge_idx[0]], dataset.data.x_drugs[edge_idx[1]]), dim=1).numpy()\n",
    "    elif cell_line_option == \"index\":\n",
    "        set_cl_one_hot = torch.nn.functional.one_hot(dataset.data.ddi_edge_classes)[indices]\n",
    "        out_set = torch.cat((dataset.data.x_drugs[edge_idx[0]], \n",
    "                             dataset.data.x_drugs[edge_idx[1]],\n",
    "                             set_cl_one_hot), dim=1).numpy()\n",
    "    else:\n",
    "        set_cl_indices = dataset.data.ddi_edge_classes[indices]\n",
    "        set_cl_features = dataset.data.cell_line_features[set_cl_indices]\n",
    "        \n",
    "        out_set = torch.cat((dataset.data.x_drugs[edge_idx[0]], \n",
    "                     dataset.data.x_drugs[edge_idx[1]],\n",
    "                     set_cl_features), dim=1).numpy()\n",
    "        \n",
    "    return out_set"
   ]
  },
  {
   "cell_type": "code",
   "execution_count": 10,
   "metadata": {},
   "outputs": [],
   "source": [
    "def evaluate_model(model, train_dataset, test_dataset, test_bliss, config, cell_line_option=\"no\"):\n",
    "    all_test_r2 = []\n",
    "    all_test_spear = []\n",
    "    all_val_r2 = []\n",
    "    all_val_spear = []\n",
    "\n",
    "    for seed in [2, 3, 4]:\n",
    "        torch.manual_seed(seed)\n",
    "        np.random.seed(seed)\n",
    "\n",
    "        train_idxs, val_idxs, _ = train_dataset.random_split(config)\n",
    "        train_edge_idx = train_dataset.data.ddi_edge_idx[:, train_idxs]\n",
    "        val_edge_idx = train_dataset.data.ddi_edge_idx[:, val_idxs]\n",
    "\n",
    "        train_bliss = train_dataset.data.ddi_edge_bliss_max[train_idxs].numpy()\n",
    "        val_bliss = train_dataset.data.ddi_edge_bliss_max[val_idxs].numpy()\n",
    "\n",
    "        train_set = get_set(train_dataset, train_idxs, train_edge_idx, cell_line_option)\n",
    "        val_set = get_set(train_dataset, val_idxs, val_edge_idx, cell_line_option)\n",
    "\n",
    "        model.fit(train_set, train_bliss)\n",
    "\n",
    "        val_preds = model.predict(val_set)\n",
    "        all_val_r2.append(stats.linregress(val_preds, val_bliss).rvalue**2)\n",
    "        all_val_spear.append(spearmanr(val_bliss, val_preds).correlation)\n",
    "\n",
    "        test_preds = model.predict(test_dataset)\n",
    "        all_test_r2.append(stats.linregress(test_preds, test_bliss).rvalue**2)\n",
    "        all_test_spear.append(spearmanr(test_bliss, test_preds).correlation)\n",
    "\n",
    "    print(\"val R2\", np.mean(all_val_r2), np.std(all_val_r2))\n",
    "    print(\"val Spear\", np.mean(all_val_spear), np.std(all_val_spear))\n",
    "\n",
    "    print(\"test R2\", np.mean(all_test_r2), np.std(all_test_r2))\n",
    "    print(\"test Spear\", np.mean(all_test_spear), np.std(all_test_spear))"
   ]
  },
  {
   "cell_type": "markdown",
   "metadata": {},
   "source": [
    "## Pair level split"
   ]
  },
  {
   "cell_type": "code",
   "execution_count": 4,
   "metadata": {},
   "outputs": [
    {
     "name": "stdout",
     "output_type": "stream",
     "text": [
      "Dataset loaded.\n",
      "4463 drug comb experiments among 149 drugs\n",
      "\t fingeprints with radius 2 and nbits 1024\n",
      "\t drug features dimension 1173\n",
      "\t 1 cell-lines\n"
     ]
    }
   ],
   "source": [
    "dataset = DrugCombMatrix(\n",
    "    study_name= 'ALMANAC',\n",
    "    cell_line= 'MCF7',\n",
    "    fp_bits= 1024,\n",
    "    fp_radius= 2\n",
    ")"
   ]
  },
  {
   "cell_type": "code",
   "execution_count": 5,
   "metadata": {},
   "outputs": [],
   "source": [
    "# Set seed\n",
    "seed = 1\n",
    "torch.manual_seed(seed)\n",
    "np.random.seed(seed)\n",
    "\n",
    "# Split\n",
    "config = {\"val_set_prop\": 0.2, \n",
    "          \"test_set_prop\": 0.1, \n",
    "          \"split_valid_train\": \"pair_level\",\n",
    "          \"test_on_unseen_cell_line\": False, \n",
    "          \"target\": \"bliss_max\"}\n",
    "\n",
    "# The test set does not depend on the seed\n",
    "_, _, test_idxs = dataset.random_split(config)\n",
    "test_edge_idx = dataset.data.ddi_edge_idx[:, test_idxs]\n",
    "test_bliss = dataset.data.ddi_edge_bliss_max[test_idxs].numpy()\n",
    "\n",
    "test_set = torch.cat((dataset.data.x_drugs[test_edge_idx[0]], dataset.data.x_drugs[test_edge_idx[1]]), \n",
    "                    dim=1).numpy()"
   ]
  },
  {
   "cell_type": "code",
   "execution_count": 6,
   "metadata": {},
   "outputs": [
    {
     "name": "stdout",
     "output_type": "stream",
     "text": [
      "val R2 0.2370352295509844 0.004864897661955212\n",
      "val Spear 0.4932619593352429 0.01432980534441483\n",
      "test R2 0.17143226478348375 0.006290679844989228\n",
      "test Spear 0.4527530524666828 0.004408367459766309\n"
     ]
    }
   ],
   "source": [
    "comb_svm = LinearSVR(max_iter=1000000, tol=0.001, C=0.1, random_state=0)\n",
    "evaluate_model(comb_svm, dataset, test_set, test_bliss, config)"
   ]
  },
  {
   "cell_type": "code",
   "execution_count": 7,
   "metadata": {},
   "outputs": [
    {
     "name": "stdout",
     "output_type": "stream",
     "text": [
      "val R2 0.2761292458780706 0.02186719187641223\n",
      "val Spear 0.4843307636504904 0.0333374209706798\n",
      "test R2 0.17240154350005946 0.002411191048605907\n",
      "test Spear 0.45891524869772354 0.0013972159101678335\n"
     ]
    }
   ],
   "source": [
    "boosting_tree = GradientBoostingRegressor(n_estimators=100,\n",
    "          max_depth=20,\n",
    "          min_samples_split=20,\n",
    "          learning_rate=0.1,\n",
    "          max_features='sqrt',\n",
    "          loss='ls')\n",
    "evaluate_model(boosting_tree, dataset, test_set, test_bliss, config)"
   ]
  },
  {
   "cell_type": "markdown",
   "metadata": {},
   "source": [
    "## Drug Level Split"
   ]
  },
  {
   "cell_type": "code",
   "execution_count": 8,
   "metadata": {},
   "outputs": [
    {
     "name": "stdout",
     "output_type": "stream",
     "text": [
      "Dataset loaded.\n",
      "4463 drug comb experiments among 149 drugs\n",
      "\t fingeprints with radius 2 and nbits 1024\n",
      "\t drug features dimension 1173\n",
      "\t 1 cell-lines\n",
      "2328 drug comb experiments among 149 drugs\n",
      "Dataset loaded.\n",
      "4463 drug comb experiments among 149 drugs\n",
      "\t fingeprints with radius 2 and nbits 1024\n",
      "\t drug features dimension 1173\n",
      "\t 1 cell-lines\n",
      "326 drug comb experiments among 149 drugs\n"
     ]
    }
   ],
   "source": [
    "dataset_train = DrugCombMatrixDrugLevelSplitTrain(\n",
    "    study_name= 'ALMANAC',\n",
    "    cell_line= 'MCF7',\n",
    "    fp_bits= 1024,\n",
    "    fp_radius= 2\n",
    ")\n",
    "\n",
    "dataset_test= DrugCombMatrixDrugLevelSplitTest(\n",
    "    study_name= 'ALMANAC',\n",
    "    cell_line= 'MCF7',\n",
    "    fp_bits= 1024,\n",
    "    fp_radius= 2\n",
    ")"
   ]
  },
  {
   "cell_type": "code",
   "execution_count": 9,
   "metadata": {},
   "outputs": [],
   "source": [
    "# Set seed\n",
    "seed = 1\n",
    "torch.manual_seed(seed)\n",
    "np.random.seed(seed)\n",
    "\n",
    "# Split\n",
    "config = {\"val_set_prop\": 0.2, \n",
    "          \"test_set_prop\": 0., \n",
    "          \"split_valid_train\": \"pair_level\",\n",
    "          \"test_on_unseen_cell_line\": False, \n",
    "          \"target\": \"bliss_max\"}\n",
    "\n",
    "test_edge_idx = dataset_test.data.ddi_edge_idx\n",
    "test_bliss = dataset_test.data.ddi_edge_bliss_max.numpy()\n",
    "\n",
    "test_set = torch.cat((dataset_test.data.x_drugs[test_edge_idx[0]], dataset_test.data.x_drugs[test_edge_idx[1]]), \n",
    "                    dim=1).numpy()"
   ]
  },
  {
   "cell_type": "code",
   "execution_count": 10,
   "metadata": {},
   "outputs": [
    {
     "name": "stdout",
     "output_type": "stream",
     "text": [
      "val R2 0.2277599554734043 0.05540620479967322\n",
      "val Spear 0.45508214673704256 0.04482903657423826\n",
      "test R2 0.025555430013379062 0.00773491235484139\n",
      "test Spear 0.10568538198923554 0.014788801436152032\n"
     ]
    }
   ],
   "source": [
    "comb_svm = LinearSVR(max_iter=1000000, tol=0.001, C=0.1, random_state=0)\n",
    "evaluate_model(comb_svm, dataset_train, test_set, test_bliss, config)"
   ]
  },
  {
   "cell_type": "code",
   "execution_count": 11,
   "metadata": {},
   "outputs": [
    {
     "name": "stdout",
     "output_type": "stream",
     "text": [
      "val R2 0.2726274644443823 0.06460262039684045\n",
      "val Spear 0.4303426820056275 0.022202853109618698\n",
      "test R2 0.024131333158824746 0.0024849659802318224\n",
      "test Spear 0.13660704165569318 0.015347045715059095\n"
     ]
    }
   ],
   "source": [
    "boosting_tree = GradientBoostingRegressor(n_estimators=100,\n",
    "          max_depth=20,\n",
    "          min_samples_split=20,\n",
    "          learning_rate=0.1,\n",
    "          max_features='sqrt',\n",
    "          loss='ls')\n",
    "evaluate_model(boosting_tree, dataset_train, test_set, test_bliss, config)"
   ]
  },
  {
   "cell_type": "markdown",
   "metadata": {},
   "source": [
    "## Multi Cell Line"
   ]
  },
  {
   "cell_type": "code",
   "execution_count": 12,
   "metadata": {},
   "outputs": [
    {
     "name": "stdout",
     "output_type": "stream",
     "text": [
      "Dataset loaded.\n",
      "200793 drug comb experiments among 149 drugs\n",
      "\t fingeprints with radius 2 and nbits 1024\n",
      "\t drug features dimension 1173\n",
      "\t 46 cell-lines\n"
     ]
    }
   ],
   "source": [
    "dataset = DrugCombMatrix(\n",
    "    study_name= 'ALMANAC',\n",
    "    cell_line= None,\n",
    "    fp_bits= 1024,\n",
    "    fp_radius= 2\n",
    ")\n",
    "\n",
    "# Set seed\n",
    "seed = 1\n",
    "torch.manual_seed(seed)\n",
    "np.random.seed(seed)\n",
    "\n",
    "config = {\"val_set_prop\": 0.2, \n",
    "          \"test_set_prop\": 0.1, \n",
    "          \"split_valid_train\": \"pair_level\",\n",
    "          \"test_on_unseen_cell_line\": False, \n",
    "          \"target\": \"bliss_max\"}\n",
    "\n",
    "_, _, test_idxs = dataset.random_split(config)"
   ]
  },
  {
   "cell_type": "code",
   "execution_count": 13,
   "metadata": {},
   "outputs": [],
   "source": [
    "# Restrict the test set to MCF7\n",
    "mcf7_idxs = np.where(np.array(dataset.data.ddi_edge_classes) == dataset.data.cell_line_to_idx_dict['MCF7'])[0]\n",
    "\n",
    "mcf7_test_idxs = list(set(test_idxs.numpy()).intersection(mcf7_idxs))\n",
    "mcf7_test_idxs = torch.Tensor(mcf7_test_idxs).long()\n"
   ]
  },
  {
   "cell_type": "code",
   "execution_count": 14,
   "metadata": {},
   "outputs": [],
   "source": [
    "test_edge_idx = dataset.data.ddi_edge_idx[:, mcf7_test_idxs]\n",
    "test_bliss = dataset.data.ddi_edge_bliss_max[mcf7_test_idxs].numpy()\n",
    "\n",
    "test_set = get_set(dataset, mcf7_test_idxs, test_edge_idx, cell_line_option=\"index\")"
   ]
  },
  {
   "cell_type": "code",
   "execution_count": 15,
   "metadata": {},
   "outputs": [
    {
     "name": "stdout",
     "output_type": "stream",
     "text": [
      "val R2 0.15687447102446284 0.05120361637727491\n",
      "val Spear 0.3712164342800531 0.011225365452072983\n",
      "test R2 0.15135112725670463 0.0028435251519886356\n",
      "test Spear 0.308100835071679 0.002555561622346465\n"
     ]
    }
   ],
   "source": [
    "comb_svm = LinearSVR(max_iter=1000000, tol=0.001, C=0.1, random_state=0)\n",
    "evaluate_model(comb_svm, dataset, test_set, test_bliss, config, cell_line_option=\"index\")"
   ]
  },
  {
   "cell_type": "code",
   "execution_count": 16,
   "metadata": {},
   "outputs": [
    {
     "name": "stdout",
     "output_type": "stream",
     "text": [
      "val R2 0.2937267014580645 0.05625799071479229\n",
      "val Spear 0.47437323994331154 0.010332947860721316\n",
      "test R2 0.21188338021130979 0.008242252557436939\n",
      "test Spear 0.36990030536336316 0.022811765086414196\n"
     ]
    }
   ],
   "source": [
    "boosting_tree = GradientBoostingRegressor(n_estimators=100,\n",
    "          max_depth=20,\n",
    "          min_samples_split=20,\n",
    "          learning_rate=0.1,\n",
    "          max_features='sqrt',\n",
    "          loss='ls')\n",
    "evaluate_model(boosting_tree, dataset, test_set, test_bliss, config, cell_line_option=\"index\")"
   ]
  },
  {
   "cell_type": "markdown",
   "metadata": {},
   "source": [
    "## Cell Line Transfer"
   ]
  },
  {
   "cell_type": "code",
   "execution_count": 17,
   "metadata": {},
   "outputs": [
    {
     "name": "stdout",
     "output_type": "stream",
     "text": [
      "Dataset loaded.\n",
      "200793 drug comb experiments among 149 drugs\n",
      "\t fingeprints with radius 2 and nbits 1024\n",
      "\t drug features dimension 1173\n",
      "\t 46 cell-lines\n"
     ]
    }
   ],
   "source": [
    "dataset = DrugCombMatrix(\n",
    "    study_name= 'ALMANAC',\n",
    "    cell_line= None,\n",
    "    fp_bits= 1024,\n",
    "    fp_radius= 2\n",
    ")\n",
    "\n",
    "# Set seed\n",
    "seed = 1\n",
    "torch.manual_seed(seed)\n",
    "np.random.seed(seed)\n",
    "\n",
    "config = {\"val_set_prop\": 0.2, \n",
    "          \"test_set_prop\": 0.1, \n",
    "          \"split_valid_train\": \"pair_level\",\n",
    "          \"test_on_unseen_cell_line\": True, \n",
    "          \"cell_line\": None,\n",
    "          \"cell_lines_in_test\": ['MCF7'],\n",
    "          \"target\": \"bliss_max\"}\n",
    "\n",
    "_, _, test_idxs = dataset.random_split(config)"
   ]
  },
  {
   "cell_type": "code",
   "execution_count": 18,
   "metadata": {},
   "outputs": [],
   "source": [
    "test_edge_idx = dataset.data.ddi_edge_idx[:, test_idxs]\n",
    "test_bliss = dataset.data.ddi_edge_bliss_max[test_idxs].numpy()\n",
    "test_set = get_set(dataset, test_idxs, test_edge_idx, cell_line_option=\"features\")"
   ]
  },
  {
   "cell_type": "code",
   "execution_count": 19,
   "metadata": {},
   "outputs": [
    {
     "name": "stdout",
     "output_type": "stream",
     "text": [
      "val R2 0.14213931806598878 0.02021737627794062\n",
      "val Spear 0.3725804722605914 0.007136353635589427\n",
      "test R2 0.1885035935984798 0.0033713047513444384\n",
      "test Spear 0.34449785924288107 0.0021887385140420125\n"
     ]
    }
   ],
   "source": [
    "comb_svm = LinearSVR(max_iter=1000000, tol=0.001, C=0.1, random_state=0)\n",
    "evaluate_model(comb_svm, dataset, test_set, test_bliss, config, cell_line_option=\"features\")"
   ]
  },
  {
   "cell_type": "code",
   "execution_count": 20,
   "metadata": {},
   "outputs": [
    {
     "name": "stdout",
     "output_type": "stream",
     "text": [
      "val R2 0.30983919988222214 0.013704751166545315\n",
      "val Spear 0.5071294111511242 0.007686993828352864\n",
      "test R2 0.38317577942456876 0.016551522027221773\n",
      "test Spear 0.40563156767350317 0.015099429620042964\n"
     ]
    }
   ],
   "source": [
    "boosting_tree = GradientBoostingRegressor(n_estimators=100,\n",
    "          max_depth=20,\n",
    "          min_samples_split=20,\n",
    "          learning_rate=0.1,\n",
    "          max_features='sqrt',\n",
    "          loss='ls')\n",
    "evaluate_model(boosting_tree, dataset, test_set, test_bliss, config, cell_line_option=\"features\")"
   ]
  },
  {
   "cell_type": "markdown",
   "metadata": {},
   "source": [
    "## Study Transfer"
   ]
  },
  {
   "cell_type": "code",
   "execution_count": 21,
   "metadata": {},
   "outputs": [
    {
     "name": "stdout",
     "output_type": "stream",
     "text": [
      "Dataset loaded.\n",
      "16785 drug comb experiments among 129 drugs\n",
      "\t fingeprints with radius 2 and nbits 1024\n",
      "\t drug features dimension 1153\n",
      "\t 9 cell-lines\n",
      "keep only fingerprint features\n",
      "Dataset loaded.\n",
      "302 drug comb experiments among 111 drugs\n",
      "\t fingeprints with radius 2 and nbits 1024\n",
      "\t drug features dimension 1135\n",
      "\t 9 cell-lines\n",
      "keep only fingerprint features\n"
     ]
    }
   ],
   "source": [
    "dataset_train = DrugCombMatrixTrainOneil(\n",
    "    study_name= 'ONEIL',\n",
    "    cell_line= None,\n",
    "    fp_bits= 1024,\n",
    "    fp_radius= 2\n",
    ")\n",
    "\n",
    "dataset_test = DrugCombMatrixTestAlmanac(\n",
    "    study_name= 'ALMANAC',\n",
    "    cell_line= None,\n",
    "    fp_bits= 1024,\n",
    "    fp_radius= 2\n",
    ")\n",
    "\n",
    "# Set seed\n",
    "seed = 1\n",
    "torch.manual_seed(seed)\n",
    "np.random.seed(seed)\n",
    "\n",
    "config = {\"val_set_prop\": 0.2, \n",
    "          \"test_set_prop\": 0., \n",
    "          \"split_valid_train\": \"pair_level\",\n",
    "          \"test_on_unseen_cell_line\": False, \n",
    "          \"cell_line\": None,\n",
    "          \"target\": \"bliss_max\"}\n",
    "\n",
    "\n",
    "test_edge_idx = dataset_test.data.ddi_edge_idx\n",
    "test_bliss = dataset_test.data.ddi_edge_bliss_max.numpy()\n",
    "\n",
    "# Dummy test indices\n",
    "test_idxs = torch.arange(dataset_test.data.ddi_edge_idx.shape[1])\n",
    "\n",
    "test_set = get_set(dataset_test, test_idxs, test_edge_idx, cell_line_option=\"features\")"
   ]
  },
  {
   "cell_type": "code",
   "execution_count": 22,
   "metadata": {},
   "outputs": [
    {
     "name": "stdout",
     "output_type": "stream",
     "text": [
      "val R2 0.15306851234181687 0.012862172307966782\n",
      "val Spear 0.4208073444887846 0.009056934300789557\n",
      "test R2 0.005022809695337565 0.0009581576629098544\n",
      "test Spear 0.10409909151163156 0.004002457198152873\n"
     ]
    }
   ],
   "source": [
    "comb_svm = LinearSVR(max_iter=1000000, tol=0.001, C=0.1, random_state=0)\n",
    "evaluate_model(comb_svm, dataset_train, test_set, test_bliss, config, cell_line_option=\"features\")"
   ]
  },
  {
   "cell_type": "code",
   "execution_count": 23,
   "metadata": {},
   "outputs": [
    {
     "name": "stdout",
     "output_type": "stream",
     "text": [
      "val R2 0.31098213131066216 0.005932088544277264\n",
      "val Spear 0.5797525329527266 0.010465217950405982\n",
      "test R2 0.000519547238353456 0.0006411019457136357\n",
      "test Spear 0.04364820712863555 0.000945152142126725\n"
     ]
    }
   ],
   "source": [
    "boosting_tree = GradientBoostingRegressor(n_estimators=100,\n",
    "          max_depth=20,\n",
    "          min_samples_split=20,\n",
    "          learning_rate=0.1,\n",
    "          max_features='sqrt',\n",
    "          loss='ls')\n",
    "evaluate_model(boosting_tree, dataset_train, test_set, test_bliss, config, cell_line_option=\"features\")"
   ]
  },
  {
   "cell_type": "markdown",
   "metadata": {},
   "source": [
    "## One hidden drug"
   ]
  },
  {
   "cell_type": "code",
   "execution_count": 11,
   "metadata": {},
   "outputs": [
    {
     "name": "stdout",
     "output_type": "stream",
     "text": [
      "Dataset loaded.\n",
      "4463 drug comb experiments among 149 drugs\n",
      "\t fingeprints with radius 2 and nbits 1024\n",
      "\t drug features dimension 1173\n",
      "\t 1 cell-lines\n",
      "3930 drug comb experiments among 149 drugs\n",
      "Dataset loaded.\n",
      "4463 drug comb experiments among 149 drugs\n",
      "\t fingeprints with radius 2 and nbits 1024\n",
      "\t drug features dimension 1173\n",
      "\t 1 cell-lines\n",
      "1981 drug comb experiments among 149 drugs\n"
     ]
    }
   ],
   "source": [
    "dataset_train = DrugCombMatrixOneHiddenDrugSplitTrain(\n",
    "    study_name= 'ALMANAC',\n",
    "    cell_line= 'MCF7',\n",
    "    fp_bits= 1024,\n",
    "    fp_radius= 2\n",
    ")\n",
    "\n",
    "dataset_test= DrugCombMatrixOneHiddenDrugSplitTest(\n",
    "    study_name= 'ALMANAC',\n",
    "    cell_line= 'MCF7',\n",
    "    fp_bits= 1024,\n",
    "    fp_radius= 2\n",
    ")"
   ]
  },
  {
   "cell_type": "code",
   "execution_count": 12,
   "metadata": {},
   "outputs": [],
   "source": [
    "# Set seed\n",
    "seed = 1\n",
    "torch.manual_seed(seed)\n",
    "np.random.seed(seed)\n",
    "\n",
    "# Split\n",
    "config = {\"val_set_prop\": 0.2, \n",
    "          \"test_set_prop\": 0., \n",
    "          \"split_valid_train\": \"pair_level\",\n",
    "          \"test_on_unseen_cell_line\": False, \n",
    "          \"target\": \"bliss_max\"}\n",
    "\n",
    "test_edge_idx = dataset_test.data.ddi_edge_idx\n",
    "test_bliss = dataset_test.data.ddi_edge_bliss_max.numpy()\n",
    "\n",
    "test_set = torch.cat((dataset_test.data.x_drugs[test_edge_idx[0]], dataset_test.data.x_drugs[test_edge_idx[1]]), \n",
    "                    dim=1).numpy()"
   ]
  },
  {
   "cell_type": "code",
   "execution_count": 13,
   "metadata": {},
   "outputs": [
    {
     "name": "stdout",
     "output_type": "stream",
     "text": [
      "val R2 0.22144186449256154 0.040409993857638694\n",
      "val Spear 0.4398062851576692 0.02418015182710733\n",
      "test R2 0.1669889215856694 0.005142345821065832\n",
      "test Spear 0.33320473422337327 0.0016895052056015946\n"
     ]
    }
   ],
   "source": [
    "comb_svm = LinearSVR(max_iter=1000000, tol=0.001, C=0.1, random_state=0)\n",
    "evaluate_model(comb_svm, dataset_train, test_set, test_bliss, config)"
   ]
  },
  {
   "cell_type": "code",
   "execution_count": 14,
   "metadata": {},
   "outputs": [
    {
     "name": "stdout",
     "output_type": "stream",
     "text": [
      "val R2 0.31972088159892426 0.08359629814948578\n",
      "val Spear 0.47500654202940473 0.041825293802971515\n",
      "test R2 0.18385353107878677 0.010574875021192177\n",
      "test Spear 0.36152551120849435 0.0016098157523196878\n"
     ]
    }
   ],
   "source": [
    "boosting_tree = GradientBoostingRegressor(n_estimators=100,\n",
    "          max_depth=20,\n",
    "          min_samples_split=20,\n",
    "          learning_rate=0.1,\n",
    "          max_features='sqrt',\n",
    "          loss='ls')\n",
    "evaluate_model(boosting_tree, dataset_train, test_set, test_bliss, config)"
   ]
  },
  {
   "cell_type": "code",
   "execution_count": null,
   "metadata": {},
   "outputs": [],
   "source": []
  }
 ],
 "metadata": {
  "kernelspec": {
   "display_name": "Python 3 (ipykernel)",
   "language": "python",
   "name": "python3"
  },
  "language_info": {
   "codemirror_mode": {
    "name": "ipython",
    "version": 3
   },
   "file_extension": ".py",
   "mimetype": "text/x-python",
   "name": "python",
   "nbconvert_exporter": "python",
   "pygments_lexer": "ipython3",
   "version": "3.8.13"
  }
 },
 "nbformat": 4,
 "nbformat_minor": 4
}
